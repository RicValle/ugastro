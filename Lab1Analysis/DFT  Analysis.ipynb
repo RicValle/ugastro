{
 "cells": [
  {
   "cell_type": "code",
   "execution_count": 1,
   "id": "372bc574",
   "metadata": {},
   "outputs": [],
   "source": [
    "import ugradio\n",
    "import numpy as np\n",
    "import matplotlib.pyplot as plt"
   ]
  },
  {
   "cell_type": "code",
   "execution_count": 2,
   "id": "3194e5be",
   "metadata": {},
   "outputs": [],
   "source": [
    "import numpy as np\n",
    "import matplotlib.pyplot as plt\n",
    "\n",
    "\n",
    "savepathTest = \"../Lab1Visualizations/Section5_2/\"\n",
    "\n",
    "def extractData(filePath, fileName):\n",
    "    ''' Extracting captured data from the lab1 npz array from SDR'''\n",
    "    raw_data = np.load(filePath + fileName)\n",
    "    try:\n",
    "        time_data, sample_rate = (np.concatenate(raw_data['time_data'][1:])), raw_data['sample_rate']  \n",
    "        time_data = time_data - np.mean(time_data)\n",
    "        return time_data, sample_rate\n",
    "    except Exception as e: \n",
    "        return [raw_data['arr_0'][0], 'Placeholder for Sample Rate']\n",
    "\n",
    "def amplitudePlotter(savePath, fileName, time_data):\n",
    "    fileName = fileName.rstrip('.npz') \n",
    "    plt.plot(time_data)\n",
    "    \n",
    "    plt.xlabel(\"Samples\")\n",
    "    plt.ylabel(\"Amplitude (Energy)\")\n",
    "    \n",
    "    plt.xlim(1870,2000)\n",
    "    \n",
    "    plt.title('Exploratory Amplitude vs. Sample')\n",
    "\n",
    "   #plt.savefig(savePath+f\"{fileName}AmplitudeVsSample.png\", dpi=300)#, bbox_inches='tight')  \n",
    "\n",
    "    plt.show()\n",
    "    return\n",
    "\n",
    "def fourierTransformPlotter(savePath, fileName, time_data,freq_data):\n",
    "    if type(freq_data) != str:\n",
    "        \n",
    "        fileName = fileName.rstrip('.npz') \n",
    "\n",
    "        fft_values = np.fft.fft(time_data)\n",
    "\n",
    "        fft_freqs = np.fft.fftfreq(len(time_data),1/freq_data)\n",
    "\n",
    "        plt.plot(fft_freqs/(1e3),fft_values)\n",
    "\n",
    "        plt.xlabel(\"Frequency (kHz)\")\n",
    "        plt.ylabel(\"Voltage (Arbitrary Units)\")\n",
    "\n",
    "        plt.title('Exploratory Voltage Amplitude vs. Sample')\n",
    "\n",
    "        #plt.savefig(savePath+f\"{fileName}FourierTransform.png\", dpi=300)#, bbox_inches='tight')  \n",
    "\n",
    "        plt.show()\n",
    "        return\n",
    "    else:\n",
    "        print(f\"{fileName} does not have the sample rate data!\")\n",
    "        \n",
    "def PowerSpectrumPlotter(savePath, fileName, time_data,freq_data):\n",
    "    if type(freq_data) != str:\n",
    "        \n",
    "        fileName = fileName.rstrip('.npz') \n",
    "\n",
    "        fft_values = np.abs(np.fft.fft(time_data))**2\n",
    "\n",
    "        fft_freqs = np.fft.fftfreq(len(time_data),1/freq_data)\n",
    "\n",
    "        plt.plot(fft_freqs/(1e3),fft_values)\n",
    "\n",
    "        plt.xlabel(\"Frequency (kHz)\")\n",
    "        plt.ylabel(\"Power (Arbitrary Units)\")\n",
    "\n",
    "        plt.title('Exploratory Power Amplitude vs. Sample')\n",
    "\n",
    "        #plt.savefig(savePath+f\"{fileName}FourierTransform.png\", dpi=300)#, bbox_inches='tight')  \n",
    "\n",
    "        plt.show()\n",
    "        return\n",
    "    else:\n",
    "        print(f\"{fileName} does not have the sample rate data!\")\n",
    "        \n",
    "def RealVoltageSpectrumPlotter(savePath, fileName, time_data,freq_data):\n",
    "    if type(freq_data) != str:\n",
    "        \n",
    "        fileName = fileName.rstrip('.npz') \n",
    "\n",
    "        fft_values = np.fft.fft(time_data).real\n",
    "\n",
    "        fft_freqs = np.fft.fftfreq(len(time_data),1/freq_data)\n",
    "\n",
    "        plt.plot(fft_freqs/(1e3),fft_values)\n",
    "\n",
    "        plt.xlabel(\"Frequency (kHz)\")\n",
    "        plt.ylabel(\"Real Voltage (Arbitrary Units)\")\n",
    "\n",
    "        plt.title('Real Voltage Amplitude vs. Sample')\n",
    "\n",
    "        #plt.savefig(savePath+f\"{fileName}FourierTransform.png\", dpi=300)#, bbox_inches='tight')  \n",
    "\n",
    "        plt.show()\n",
    "        return\n",
    "    else:\n",
    "        print(f\"{fileName} does not have the sample rate data!\")\n",
    "        \n",
    "def ImagVoltageSpectrumPlotter(savePath, fileName, time_data,freq_data):\n",
    "    if type(freq_data) != str:\n",
    "        \n",
    "        fileName = fileName.rstrip('.npz') \n",
    "\n",
    "        fft_values = np.fft.fft(time_data).imag\n",
    "\n",
    "        fft_freqs = np.fft.fftfreq(len(time_data),1/freq_data)\n",
    "\n",
    "        plt.plot(fft_freqs/(1e3),fft_values)\n",
    "\n",
    "        plt.xlabel(\"Frequency (kHz)\")\n",
    "        plt.ylabel(\"Imaginary Voltage (Arbitrary Units)\")\n",
    "\n",
    "        plt.title('Imaginary Voltage Amplitude vs. Sample')\n",
    "\n",
    "        #plt.savefig(savePath+f\"{fileName}FourierTransform.png\", dpi=300)#, bbox_inches='tight')  \n",
    "\n",
    "        plt.show()\n",
    "        return\n",
    "    else:\n",
    "        print(f\"{fileName} does not have the sample rate data!\")\n",
    "\n",
    "def autoCorrelation(savePath, fileName, time_data,freq_data):\n",
    "    if type(freq_data) != str:\n",
    "        \n",
    "        fileName = fileName.rstrip('.npz') \n",
    "\n",
    "        fft_values = np.fft.fftshift(np.fft.fft(time_data))\n",
    "\n",
    "        power_spectrum = np.abs(fft_values)**2\n",
    "        \n",
    "        autocorrelation = np.fft.ifft(power_spectrum)\n",
    "        \n",
    "        lags = np.arange(len(autocorrelation))  \n",
    "        \n",
    "        plt.plot(lags, autocorrelation)\n",
    "        \n",
    "        plt.xlabel(\"Lags (Sample)\")\n",
    "        plt.ylabel(\"Power\")\n",
    "\n",
    "        plt.title('Autocorrelation')\n",
    "        #plt.savefig(savePath+f\"{fileName}FourierTransform.png\", dpi=300)#, bbox_inches='tight')  \n",
    "\n",
    "        plt.show()\n",
    "        return\n",
    "    else:\n",
    "        print(f\"{fileName} does not have the sample rate data!\")\n",
    "\n",
    "def GuassianHistogram(savePath, fileName, time_data,freq_data, N):\n",
    "    fileName = fileName.rstrip('.npz') \n",
    "    data, bin_edges = np.histogram(time_data,N)\n",
    "    std = np.std(time_data)\n",
    "    mean = np.mean(time_data)\n",
    "    amplitude = np.max(data)\n",
    "    \n",
    "    \n",
    "    x = np.linspace(-100,100)\n",
    "    plt.hist(time_data, N)\n",
    "    plt.plot(x, amplitude * np.exp(-0.5 * ((x - mean) / std) ** 2)) \n",
    "\n",
    "def residualsGuassian(data,N):\n",
    "    actual, data_bins = np.histogram(data, N)\n",
    "    mean, std = np.mean(data), np.std(data)\n",
    "    amplitude = max(np.histogram(data,N)[0])\n",
    "\n",
    "    bin_centers = (data_bins[:-1] + data_bins[1:]) / 2\n",
    "    predicted = amplitude * np.exp(-0.5 * ((bin_centers - mean) / std) ** 2)\n",
    "    normalize = np.std(actual-predicted)\n",
    "    plt.scatter(bin_centers, (actual - predicted)/normalize)"
   ]
  },
  {
   "cell_type": "code",
   "execution_count": 8,
   "id": "46549a69",
   "metadata": {},
   "outputs": [],
   "source": [
    "ugradio.dft??"
   ]
  },
  {
   "cell_type": "code",
   "execution_count": 4,
   "id": "ef7e9ce4",
   "metadata": {},
   "outputs": [],
   "source": [
    "filepathTest = \"../../ugastro/Lab1Data/Section5_2/\""
   ]
  },
  {
   "cell_type": "code",
   "execution_count": 5,
   "id": "57a39a8c",
   "metadata": {},
   "outputs": [],
   "source": [
    "lab_1_data_200khz_1000khz = extractData(filepathTest, 'lab_1_data_200khz_1000khz.npz')"
   ]
  },
  {
   "cell_type": "code",
   "execution_count": 27,
   "id": "d01dbe38",
   "metadata": {},
   "outputs": [],
   "source": [
    "outfreqbin = np.linspace(-2.5e5,2.5e5,10000)"
   ]
  },
  {
   "cell_type": "code",
   "execution_count": 31,
   "id": "dc5c3902",
   "metadata": {},
   "outputs": [],
   "source": [
    "freq1, FT1 = ugradio.dft.dft(lab_1_data_200khz_1000khz[0],f=outfreqbin)\n",
    "freq2, FT2 = ugradio.dft.dft(lab_1_data_200khz_1000khz[0],vsamp = lab_1_data_200khz_1000khz[1])"
   ]
  },
  {
   "cell_type": "code",
   "execution_count": 33,
   "id": "f468135a",
   "metadata": {},
   "outputs": [
    {
     "data": {
      "text/plain": [
       "[<matplotlib.lines.Line2D at 0x7f4673dfd0>]"
      ]
     },
     "execution_count": 33,
     "metadata": {},
     "output_type": "execute_result"
    },
    {
     "data": {
      "image/png": "[encoded data removed]",
      "text/plain": [
       "<Figure size 640x480 with 1 Axes>"
      ]
     },
     "metadata": {},
     "output_type": "display_data"
    }
   ],
   "source": [
    "plt.plot(freq1,FT1.imag)\n",
    "plt.plot(freq2,FT2.imag)"
   ]
  },
  {
   "cell_type": "code",
   "execution_count": null,
   "id": "00010626",
   "metadata": {},
   "outputs": [],
   "source": []
  }
 ],
 "metadata": {
  "kernelspec": {
   "display_name": "ugradio",
   "language": "python",
   "name": "ugradio"
  },
  "language_info": {
   "codemirror_mode": {
    "name": "ipython",
    "version": 3
   },
   "file_extension": ".py",
   "mimetype": "text/x-python",
   "name": "python",
   "nbconvert_exporter": "python",
   "pygments_lexer": "ipython3",
   "version": "3.11.2"
  }
 },
 "nbformat": 4,
 "nbformat_minor": 5
}
