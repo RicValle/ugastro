{
 "cells": [
  {
   "cell_type": "code",
   "execution_count": 23,
   "id": "ab5b46ad",
   "metadata": {},
   "outputs": [],
   "source": [
    "import numpy as np"
   ]
  },
  {
   "cell_type": "code",
   "execution_count": 24,
   "id": "c7294d39",
   "metadata": {},
   "outputs": [],
   "source": [
    "# Step 1: Create sample .npy files with different lengths\n",
    "array1 = np.random.rand(20, 1)  # 20 rows, 5 columns\n",
    "array2 = np.random.rand(19, 1)  # 19 rows, 5 columns\n",
    "\n",
    "np.save(\"array1.npy\", array1)\n",
    "np.save(\"array2.npy\", array2)"
   ]
  },
  {
   "cell_type": "code",
   "execution_count": null,
   "id": "457b3654",
   "metadata": {},
   "outputs": [],
   "source": []
  },
  {
   "cell_type": "code",
   "execution_count": 25,
   "id": "bedce547",
   "metadata": {},
   "outputs": [],
   "source": [
    "files = [\"array1.npy\", \"array2.npy\"]\n",
    "arrays = [np.load(f) for f in files]"
   ]
  },
  {
   "cell_type": "code",
   "execution_count": 26,
   "id": "9ca0df68",
   "metadata": {},
   "outputs": [],
   "source": [
    "concatenated = np.concatenate(arrays, axis=0)"
   ]
  },
  {
   "cell_type": "code",
   "execution_count": 44,
   "id": "e7c3e4ba",
   "metadata": {},
   "outputs": [],
   "source": [
    "path = \"../Lab3Data/Week1_Testing/\"\n",
    "data = [np.load(path+'Mar13_12hour_observation_data.npz', allow_pickle=True)['arr_0'], np.load(path+'Mar12_test_observation_data.npz', allow_pickle=True)['arr_0']]\n",
    "concatenated_data = np.concatenate(data, axis=0)"
   ]
  },
  {
   "cell_type": "code",
   "execution_count": 52,
   "id": "7db06145",
   "metadata": {},
   "outputs": [
    {
     "data": {
      "text/plain": [
       "array([{'corr01': array([6.01729358+0.j, 0.        +0.j, 0.        +0.j, ...,\n",
       "              0.        +0.j, 0.        +0.j, 0.        +0.j]), 'acc_cnt': 455272, 'time': 1741878072.3671694},\n",
       "       {'corr01': array([ 5.96594037-0.00569135j, -0.03767693-0.00340105j,\n",
       "              -0.00604194-0.00111075j, ..., -0.02853539-0.0141481j ,\n",
       "              -0.02167431+0.00310288j, -0.03022936-0.00487549j]), 'acc_cnt': 455273, 'time': 1741878073.736342},\n",
       "       {'corr01': array([6.09380734+0.j, 0.        +0.j, 0.        +0.j, ...,\n",
       "              0.        +0.j, 0.        +0.j, 0.        +0.j]), 'acc_cnt': 455274, 'time': 1741878074.980782},\n",
       "       ...,\n",
       "       {'corr01': array([6.07527523+0.j, 0.        +0.j, 0.        +0.j, ...,\n",
       "              0.        +0.j, 0.        +0.j, 0.        +0.j]), 'acc_cnt': 408780, 'time': 1741819951.267957},\n",
       "       {'corr01': array([6.08022936+0.j, 0.        +0.j, 0.        +0.j, ...,\n",
       "              0.        +0.j, 0.        +0.j, 0.        +0.j]), 'acc_cnt': 408781, 'time': 1741819952.8130608},\n",
       "       {'corr01': array([6.01711009+0.j, 0.        +0.j, 0.        +0.j, ...,\n",
       "              0.        +0.j, 0.        +0.j, 0.        +0.j]), 'acc_cnt': 408782, 'time': 1741819953.9976702}],\n",
       "      dtype=object)"
      ]
     },
     "execution_count": 52,
     "metadata": {},
     "output_type": "execute_result"
    }
   ],
   "source": [
    "concatenated_data"
   ]
  },
  {
   "cell_type": "code",
   "execution_count": 49,
   "id": "ed27026d",
   "metadata": {},
   "outputs": [
    {
     "data": {
      "text/plain": [
       "2093"
      ]
     },
     "execution_count": 49,
     "metadata": {},
     "output_type": "execute_result"
    }
   ],
   "source": [
    "len(np.load(path+'Mar13_12hour_observation_data.npz', allow_pickle=True)['arr_0'])"
   ]
  },
  {
   "cell_type": "code",
   "execution_count": 50,
   "id": "69c0733f",
   "metadata": {},
   "outputs": [
    {
     "data": {
      "text/plain": [
       "1256"
      ]
     },
     "execution_count": 50,
     "metadata": {},
     "output_type": "execute_result"
    }
   ],
   "source": [
    "len(np.load(path+'Mar12_test_observation_data.npz', allow_pickle=True)['arr_0'])"
   ]
  },
  {
   "cell_type": "code",
   "execution_count": 51,
   "id": "61b5eac6",
   "metadata": {},
   "outputs": [
    {
     "data": {
      "text/plain": [
       "3349"
      ]
     },
     "execution_count": 51,
     "metadata": {},
     "output_type": "execute_result"
    }
   ],
   "source": [
    "2093+1256"
   ]
  },
  {
   "cell_type": "code",
   "execution_count": null,
   "id": "ee4b6d3e",
   "metadata": {},
   "outputs": [],
   "source": []
  }
 ],
 "metadata": {
  "kernelspec": {
   "display_name": "Python 3 (ipykernel)",
   "language": "python",
   "name": "python3"
  },
  "language_info": {
   "codemirror_mode": {
    "name": "ipython",
    "version": 3
   },
   "file_extension": ".py",
   "mimetype": "text/x-python",
   "name": "python",
   "nbconvert_exporter": "python",
   "pygments_lexer": "ipython3",
   "version": "3.11.5"
  }
 },
 "nbformat": 4,
 "nbformat_minor": 5
}
