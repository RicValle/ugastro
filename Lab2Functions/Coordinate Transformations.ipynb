{
 "cells": [
  {
   "cell_type": "code",
   "execution_count": 2,
   "id": "01c692cb",
   "metadata": {},
   "outputs": [],
   "source": [
    "from astropy.coordinates import AltAz, EarthLocation, SkyCoord\n",
    "from astropy.time import Time\n",
    "import astropy.units as u\n",
    "from astropy.time import Time"
   ]
  },
  {
   "cell_type": "code",
   "execution_count": 3,
   "id": "7489f28f",
   "metadata": {},
   "outputs": [
    {
     "data": {
      "text/plain": [
       "2460732.741661293"
      ]
     },
     "execution_count": 3,
     "metadata": {},
     "output_type": "execute_result"
    }
   ],
   "source": [
    "# Get the current Julian Day\n",
    "current_jd = Time.now().jd\n",
    "current_jd"
   ]
  },
  {
   "cell_type": "code",
   "execution_count": 4,
   "id": "6c94e92b",
   "metadata": {},
   "outputs": [
    {
     "name": "stdout",
     "output_type": "stream",
     "text": [
      "Azimuth: 333.050913, Altitude: 23.471521\n"
     ]
    }
   ],
   "source": [
    "def galactic_to_altaz(l, b, observer_lat, observer_lon, observer_elev, julian_day):\n",
    "    \"\"\"\n",
    "    Convert Galactic (l, b) coordinates to Altitude and Azimuth for a given observer location and time.\n",
    "\n",
    "    Parameters:\n",
    "        l (float): Galactic longitude in degrees.\n",
    "        b (float): Galactic latitude in degrees.\n",
    "        observer_lat (float): Observer's latitude in degrees.\n",
    "        observer_lon (float): Observer's longitude in degrees.\n",
    "        observer_elev (float): Observer's elevation in meters.\n",
    "        julian_day (float): Observation time in Julian Day (e.g., 2460345.5).\n",
    "\n",
    "    Returns:\n",
    "        tuple: (Azimuth in degrees, Altitude in degrees)\n",
    "    \"\"\"\n",
    "    location = EarthLocation(lat=observer_lat * u.deg, lon=observer_lon * u.deg, height=observer_elev * u.m)\n",
    "    time = Time(julian_day, format='jd')  # Convert JD to astropy Time\n",
    "\n",
    "    # Define Galactic coordinates\n",
    "    galactic_coord = SkyCoord(l=l * u.deg, b=b * u.deg, frame='galactic')\n",
    "\n",
    "    # Convert to Alt-Az\n",
    "    altaz = galactic_coord.transform_to(AltAz(location=location, obstime=time))\n",
    "\n",
    "    return altaz.az.deg, altaz.alt.deg\n",
    "\n",
    "# Example usage\n",
    "az, alt = galactic_to_altaz(120, 0, 37.8732, -122.2573, 89, current_jd)\n",
    "print(f\"Azimuth: {az:.6f}, Altitude: {alt:.6f}\")\n"
   ]
  },
  {
   "cell_type": "code",
   "execution_count": 27,
   "id": "7a366fde",
   "metadata": {},
   "outputs": [
    {
     "name": "stdout",
     "output_type": "stream",
     "text": [
      "RA: 6.450831, Dec: 62.725727\n"
     ]
    }
   ],
   "source": [
    "def galactic_to_radec(l, b):\n",
    "    \"\"\"\n",
    "    Convert Galactic (l, b) coordinates to Right Ascension (RA) and Declination (Dec).\n",
    "\n",
    "    Parameters:\n",
    "        l (float): Galactic longitude in degrees.\n",
    "        b (float): Galactic latitude in degrees.\n",
    "\n",
    "    Returns:\n",
    "        tuple: (RA in degrees, Dec in degrees)\n",
    "    \"\"\"\n",
    "    galactic_coord = SkyCoord(l=l * u.deg, b=b * u.deg, frame='galactic')\n",
    "    radec = galactic_coord.transform_to('icrs')  # Convert to ICRS (RA/Dec)\n",
    "\n",
    "    return radec.ra.deg, radec.dec.deg\n",
    "\n",
    "# Example usage\n",
    "ra, dec = galactic_to_radec(120, 0)\n",
    "print(f\"RA: {ra:.6f}, Dec: {dec:.6f}\")"
   ]
  },
  {
   "cell_type": "code",
   "execution_count": 26,
   "id": "ff39d8da",
   "metadata": {},
   "outputs": [
    {
     "name": "stdout",
     "output_type": "stream",
     "text": [
      "Azimuth: 333.020378, Altitude: 23.441969\n"
     ]
    }
   ],
   "source": [
    "def radec_to_altaz(ra, dec, observer_lat, observer_lon, observer_elev, julian_day):\n",
    "    \"\"\"\n",
    "    Convert Right Ascension (RA) and Declination (Dec) to Altitude and Azimuth.\n",
    "\n",
    "    Parameters:\n",
    "        ra (float): Right Ascension in degrees.\n",
    "        dec (float): Declination in degrees.\n",
    "        observer_lat (float): Observer's latitude in degrees.\n",
    "        observer_lon (float): Observer's longitude in degrees.\n",
    "        observer_elev (float): Observer's elevation in meters.\n",
    "        julian_day (float): Observation time in Julian Day.\n",
    "\n",
    "    Returns:\n",
    "        tuple: (Azimuth in degrees, Altitude in degrees)\n",
    "    \"\"\"\n",
    "    location = EarthLocation(lat=observer_lat * u.deg, lon=observer_lon * u.deg, height=observer_elev * u.m)\n",
    "    time = Time(julian_day, format='jd')  # Convert JD to astropy Time\n",
    "\n",
    "    # Define RA/Dec coordinates\n",
    "    radec = SkyCoord(ra=ra * u.deg, dec=dec * u.deg, frame='icrs')\n",
    "\n",
    "    # Convert to Alt-Az\n",
    "    altaz = radec.transform_to(AltAz(location=location, obstime=time))\n",
    "\n",
    "    return altaz.az.deg, altaz.alt.deg\n",
    "\n",
    "# Example usage\n",
    "az, alt = radec_to_altaz(6.450831, 62.725727, 37.7749, -122.4194, 1e6, current_jd)\n",
    "print(f\"Azimuth: {az:.6f}, Altitude: {alt:.6f}\")"
   ]
  },
  {
   "cell_type": "code",
   "execution_count": null,
   "id": "c99e83cd",
   "metadata": {},
   "outputs": [],
   "source": [
    "ra, dec = altaz_to_radec(45, 180, 37.7749, -122.4194, 0, 2460345.5)\n",
    "print(f\"RA: {ra:.6f}, Dec: {dec:.6f}\")\n"
   ]
  }
 ],
 "metadata": {
  "kernelspec": {
   "display_name": "Python 3 (ipykernel)",
   "language": "python",
   "name": "python3"
  },
  "language_info": {
   "codemirror_mode": {
    "name": "ipython",
    "version": 3
   },
   "file_extension": ".py",
   "mimetype": "text/x-python",
   "name": "python",
   "nbconvert_exporter": "python",
   "pygments_lexer": "ipython3",
   "version": "3.11.5"
  }
 },
 "nbformat": 4,
 "nbformat_minor": 5
}
